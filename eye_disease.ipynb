{
  "nbformat": 4,
  "nbformat_minor": 0,
  "metadata": {
    "colab": {
      "name": "eye_disease.ipynb",
      "provenance": [],
      "collapsed_sections": [],
      "mount_file_id": "1DNF51dPURgHJ4mEmLdvLUFFlROynbxDO",
      "authorship_tag": "ABX9TyPtMllYgHMTncTfsCyMkeTi",
      "include_colab_link": true
    },
    "kernelspec": {
      "name": "python3",
      "display_name": "Python 3"
    },
    "language_info": {
      "name": "python"
    },
    "accelerator": "GPU"
  },
  "cells": [
    {
      "cell_type": "markdown",
      "metadata": {
        "id": "view-in-github",
        "colab_type": "text"
      },
      "source": [
        "<a href=\"https://colab.research.google.com/github/Prasadchaskar/Eye-Disease/blob/main/eye_disease.ipynb\" target=\"_parent\"><img src=\"https://colab.research.google.com/assets/colab-badge.svg\" alt=\"Open In Colab\"/></a>"
      ]
    },
    {
      "cell_type": "code",
      "execution_count": 32,
      "metadata": {
        "id": "kg6btIdjoCl4"
      },
      "outputs": [],
      "source": [
        "# import zipfile\n",
        "# !unzip /content/drive/MyDrive/Eye_disease.zip"
      ]
    },
    {
      "cell_type": "code",
      "source": [
        "import tensorflow as tf\n",
        "from tensorflow.keras import models, layers\n",
        "import matplotlib.pyplot as plt\n",
        "import seaborn as sns\n",
        "import pandas as pd\n",
        "import cv2\n",
        "import numpy as np\n",
        "import PIL"
      ],
      "metadata": {
        "id": "eddNlztToYWe"
      },
      "execution_count": 2,
      "outputs": []
    },
    {
      "cell_type": "code",
      "source": [
        "BATCH_SIZE = 32\n",
        "IMAGE_SIZE = 200\n",
        "CHANNELS=3\n",
        "EPOCHS=8"
      ],
      "metadata": {
        "id": "81GiwohqoZ21"
      },
      "execution_count": 43,
      "outputs": []
    },
    {
      "cell_type": "code",
      "source": [
        "from pathlib import Path\n",
        "my_path = Path(r'/content/Eye_disease')"
      ],
      "metadata": {
        "id": "oWcHBuaeocyN"
      },
      "execution_count": 67,
      "outputs": []
    },
    {
      "cell_type": "code",
      "source": [
        "eyes_images_dict = {\n",
        "    'Bulging_Eyes': list(my_path.glob('Bulging_Eyes/*')),\n",
        "    'Contracts': list(my_path.glob('Contracts/*')),\n",
        "    'Crossed_Eyes': list(my_path.glob('Crossed_Eyes/*')),\n",
        "    'Glaucoma': list(my_path.glob('Glaucoma/*')),\n",
        "    'Uveitis': list(my_path.glob('Uveitis/*'))\n",
        "}\n",
        "eyes_labels_dict = {\n",
        "    'Bulging_Eyes': 0,\n",
        "    'Contracts': 1,\n",
        "    'Crossed_Eyes': 2,\n",
        "    'Glaucoma':3,\n",
        "    'Uveitis':4\n",
        "}"
      ],
      "metadata": {
        "id": "HQznG5NpofU2"
      },
      "execution_count": 74,
      "outputs": []
    },
    {
      "cell_type": "code",
      "source": [
        "X = []\n",
        "y = []\n",
        "for name,images in eyes_images_dict.items():\n",
        "    for image in images:\n",
        "        img = cv2.imread(str(image))\n",
        "        resize = cv2.resize(img,(200,200))\n",
        "        X.append(resize)\n",
        "        y.append(eyes_labels_dict[name])"
      ],
      "metadata": {
        "id": "AkOq5ZgtoiA0"
      },
      "execution_count": 75,
      "outputs": []
    },
    {
      "cell_type": "code",
      "source": [
        "len(X)"
      ],
      "metadata": {
        "colab": {
          "base_uri": "https://localhost:8080/"
        },
        "id": "Y8UFwIkNt8pS",
        "outputId": "128aec48-676a-4740-e3f8-d8c63205ff60"
      },
      "execution_count": 76,
      "outputs": [
        {
          "output_type": "execute_result",
          "data": {
            "text/plain": [
              "2043"
            ]
          },
          "metadata": {},
          "execution_count": 76
        }
      ]
    },
    {
      "cell_type": "code",
      "source": [
        "X = np.array(X)\n",
        "y = np.array(y)"
      ],
      "metadata": {
        "id": "N9zGZYSpojzl"
      },
      "execution_count": 77,
      "outputs": []
    },
    {
      "cell_type": "code",
      "source": [
        "from sklearn.model_selection import train_test_split\n",
        "X_train,X_test,y_train,y_test = train_test_split(X,y,test_size=0.1)"
      ],
      "metadata": {
        "id": "oO1geZE-om1t"
      },
      "execution_count": 78,
      "outputs": []
    },
    {
      "cell_type": "code",
      "source": [
        "X_train_scaled = X_train / 255\n",
        "X_test_scaled = X_test /  255"
      ],
      "metadata": {
        "id": "0g0Vmb3Yooxc"
      },
      "execution_count": 79,
      "outputs": []
    },
    {
      "cell_type": "code",
      "source": [
        "from tensorflow.keras import  models,layers\n",
        "model = models.Sequential([\n",
        "    layers.Conv2D(filters=20, kernel_size=(4, 4),\n",
        "                  activation='relu', input_shape=(200, 200, 3)),\n",
        "    # layers.MaxPooling2D(pool_size=(2, 2)),\n",
        "    layers.Dropout(0.5),\n",
        "    layers.Flatten(),\n",
        "    layers.Dense(50,activation='relu'),\n",
        "    layers.Dense(5,activation='softmax')\n",
        "]\n",
        ")\n",
        "model.compile(\n",
        "    optimizer='adam',\n",
        "    loss='sparse_categorical_crossentropy',\n",
        "    metrics=['accuracy']\n",
        ")"
      ],
      "metadata": {
        "id": "VmXNnYDhor3N"
      },
      "execution_count": 87,
      "outputs": []
    },
    {
      "cell_type": "code",
      "source": [
        "model.fit(X_train_scaled,y_train,epochs=10)"
      ],
      "metadata": {
        "id": "axkhYsBkufPw",
        "colab": {
          "base_uri": "https://localhost:8080/"
        },
        "outputId": "820e0c19-cd62-4fb6-c900-862499fbd60d"
      },
      "execution_count": 88,
      "outputs": [
        {
          "output_type": "stream",
          "name": "stdout",
          "text": [
            "Epoch 1/10\n",
            "58/58 [==============================] - 2s 21ms/step - loss: 2.0336 - accuracy: 0.2448\n",
            "Epoch 2/10\n",
            "58/58 [==============================] - 1s 20ms/step - loss: 1.5092 - accuracy: 0.3096\n",
            "Epoch 3/10\n",
            "58/58 [==============================] - 1s 20ms/step - loss: 1.2783 - accuracy: 0.4543\n",
            "Epoch 4/10\n",
            "58/58 [==============================] - 1s 20ms/step - loss: 0.9888 - accuracy: 0.5952\n",
            "Epoch 5/10\n",
            "58/58 [==============================] - 1s 20ms/step - loss: 0.6936 - accuracy: 0.7682\n",
            "Epoch 6/10\n",
            "58/58 [==============================] - 1s 20ms/step - loss: 0.4510 - accuracy: 0.8683\n",
            "Epoch 7/10\n",
            "58/58 [==============================] - 1s 21ms/step - loss: 0.2426 - accuracy: 0.9450\n",
            "Epoch 8/10\n",
            "58/58 [==============================] - 1s 20ms/step - loss: 0.1297 - accuracy: 0.9848\n",
            "Epoch 9/10\n",
            "58/58 [==============================] - 1s 21ms/step - loss: 0.0602 - accuracy: 0.9978\n",
            "Epoch 10/10\n",
            "58/58 [==============================] - 1s 21ms/step - loss: 0.0312 - accuracy: 0.9995\n"
          ]
        },
        {
          "output_type": "execute_result",
          "data": {
            "text/plain": [
              "<keras.callbacks.History at 0x7f18a7a9d8d0>"
            ]
          },
          "metadata": {},
          "execution_count": 88
        }
      ]
    },
    {
      "cell_type": "code",
      "source": [
        "y_pred = list()\n",
        "for i in model.predict(X_test_scaled):\n",
        "  y_pred.append(np.argmax(i))\n",
        "y_pred = np.array(y_pred)"
      ],
      "metadata": {
        "id": "I-fFXKzk3eIT"
      },
      "execution_count": 14,
      "outputs": []
    },
    {
      "cell_type": "markdown",
      "source": [
        "#### class 0 :Bulging_Eyes\n",
        "#### class 1 :Contracts    \n",
        "#### class 2 :Crossed_Eyes    \n",
        "#### class 3 :Glaucoma          \n",
        "#### class 4 :Uveitis"
      ],
      "metadata": {
        "id": "I72_qHWLHW8Y"
      }
    },
    {
      "cell_type": "code",
      "source": [
        "from sklearn.metrics import  classification_report,confusion_matrix\n",
        "print(classification_report(y_test,y_pred))"
      ],
      "metadata": {
        "colab": {
          "base_uri": "https://localhost:8080/"
        },
        "id": "FciDZoMK3mU9",
        "outputId": "dc244c72-cacc-40e6-c295-33b78695234d"
      },
      "execution_count": 29,
      "outputs": [
        {
          "output_type": "stream",
          "name": "stdout",
          "text": [
            "              precision    recall  f1-score   support\n",
            "\n",
            "           0       0.99      0.94      0.96        80\n",
            "           1       0.90      0.98      0.94        84\n",
            "           2       0.93      0.91      0.92        85\n",
            "           3       0.94      0.95      0.94        81\n",
            "           4       0.97      0.95      0.96        79\n",
            "\n",
            "    accuracy                           0.94       409\n",
            "   macro avg       0.95      0.94      0.94       409\n",
            "weighted avg       0.94      0.94      0.94       409\n",
            "\n"
          ]
        }
      ]
    },
    {
      "cell_type": "code",
      "source": [
        "class_names = [0,1,2,3,4]\n",
        "fig,ax = plt.subplots()\n",
        "tick_marks = np.arange(len(class_names))\n",
        "plt.xticks(tick_marks,class_names)\n",
        "plt.yticks(tick_marks,class_names)\n",
        "cnf_matrix = confusion_matrix(y_test,y_pred)\n",
        "sns.heatmap(pd.DataFrame(cnf_matrix), annot = True, cmap = 'YlGnBu',\n",
        "                fmt = 'g')\n",
        "ax.xaxis.set_label_position('top')\n",
        "plt.tight_layout()\n",
        "plt.ylabel('Actual label')\n",
        "plt.xlabel('Predicted label')\n",
        "plt.show()"
      ],
      "metadata": {
        "colab": {
          "base_uri": "https://localhost:8080/",
          "height": 309
        },
        "id": "dNCF5yjpDY-y",
        "outputId": "0ea5ac62-19de-4ac9-916e-3845be127c11"
      },
      "execution_count": 31,
      "outputs": [
        {
          "output_type": "display_data",
          "data": {
            "image/png": "[encoded data removed]",
            "text/plain": [
              "<Figure size 432x288 with 2 Axes>"
            ]
          },
          "metadata": {
            "needs_background": "light"
          }
        }
      ]
    },
    {
      "cell_type": "code",
      "source": [
        "model.save('eye.h5')"
      ],
      "metadata": {
        "id": "SvektVxqDrBL"
      },
      "execution_count": 89,
      "outputs": []
    }
  ]
}